{
 "cells": [
  {
   "cell_type": "code",
   "execution_count": null,
   "metadata": {},
   "outputs": [],
   "source": [
    "1.Stock prices\n",
    "\n",
    "You want to write a bot that will automate the task of day-trading for you while you're going through Lambda.\n",
    "You decide to have your bot just focus on buying and selling Amazon stock. \n",
    "\n",
    "Write a function `find_max_profit` that receives as input a list of stock prices. \n",
    "Your function should return the maximum profit that can be made from a single buy and sell. \n",
    "You must buy first before selling; no shorting is allowed here.\n",
    "\n",
    "For example, `find_max_profit([1050, 270, 1540, 3800, 2])` should return 3530, \n",
    "which is the maximum profit that can be made from a single buy and then sell of these stock prices. \n",
    "\n",
    "## Hints\n",
    "\n",
    " For this problem, we essentially want to find the maximum difference between \n",
    "    the smallest and largest prices in the list of prices, \n",
    "    but we also have to make sure that the max profit is computed by subtracting \n",
    "    some price by another price that comes _before_ it; \n",
    "    it can't come after it in the list of prices. \n",
    "\n",
    " So what if we kept track of the `current_min_price_so_far` and the `max_profit_so_far`? \n",
    "\n",
    "# test cases\n",
    "[100, 90, 80, 50, 20, 10] -10\n",
    "[100, 55, 4, 98, 10, 18, 90, 95, 43, 11, 47, 67, 89, 42, 49, 79] 94\n",
    "[10, 7, 5, 8, 11, 9] 6\n",
    "  \n"
   ]
  },
  {
   "cell_type": "code",
   "execution_count": 71,
   "metadata": {},
   "outputs": [],
   "source": [
    "\n",
    "def find_max_profit(prices):\n",
    "    print(prices)\n",
    "#     max_index = prices.index(max(prices))\n",
    "#     min_index = prices.index(min(prices[:max_index]))\n",
    "    difference = []\n",
    "    for i in range(len(prices[:-1])):\n",
    "        #print(i)\n",
    "        \n",
    "        \n",
    "        for j in range(len(prices)):\n",
    "            if j > i:\n",
    "                #print(prices[j],prices[i], prices[j] - prices[i])\n",
    "                difference.append(prices[j] - prices[i] )\n",
    "    return  max(difference)\n",
    "\n",
    "\n"
   ]
  },
  {
   "cell_type": "code",
   "execution_count": 63,
   "metadata": {},
   "outputs": [],
   "source": [
    "l=[1050, 270, 1540, 3800, 2]"
   ]
  },
  {
   "cell_type": "code",
   "execution_count": 65,
   "metadata": {},
   "outputs": [],
   "source": [
    "l = [10, 7, 5, 8, 11, 9]"
   ]
  },
  {
   "cell_type": "code",
   "execution_count": 67,
   "metadata": {},
   "outputs": [],
   "source": [
    "l = [100, 90, 80, 50, 20, 10]"
   ]
  },
  {
   "cell_type": "code",
   "execution_count": 69,
   "metadata": {},
   "outputs": [],
   "source": [
    "l =[100, 55, 4, 98, 10, 18, 90, 95, 43, 11, 47, 67, 89, 42, 49, 79]"
   ]
  },
  {
   "cell_type": "code",
   "execution_count": 25,
   "metadata": {},
   "outputs": [
    {
     "data": {
      "text/plain": [
       "[1050, 270, 1540, 3800]"
      ]
     },
     "execution_count": 25,
     "metadata": {},
     "output_type": "execute_result"
    }
   ],
   "source": [
    "l[:-1]"
   ]
  },
  {
   "cell_type": "code",
   "execution_count": 58,
   "metadata": {},
   "outputs": [
    {
     "data": {
      "text/plain": [
       "[270, 1540, 3800, 2]"
      ]
     },
     "execution_count": 58,
     "metadata": {},
     "output_type": "execute_result"
    }
   ],
   "source": [
    "l[1:]"
   ]
  },
  {
   "cell_type": "code",
   "execution_count": 72,
   "metadata": {},
   "outputs": [
    {
     "name": "stdout",
     "output_type": "stream",
     "text": [
      "[100, 55, 4, 98, 10, 18, 90, 95, 43, 11, 47, 67, 89, 42, 49, 79]\n"
     ]
    },
    {
     "data": {
      "text/plain": [
       "94"
      ]
     },
     "execution_count": 72,
     "metadata": {},
     "output_type": "execute_result"
    }
   ],
   "source": [
    "find_max_profit(l)"
   ]
  },
  {
   "cell_type": "code",
   "execution_count": 1,
   "metadata": {},
   "outputs": [],
   "source": []
  },
  {
   "cell_type": "code",
   "execution_count": 3,
   "metadata": {},
   "outputs": [],
   "source": [
    "max_index = l.index(max(l))\n",
    "min_index = l.index(min(l[:max_index]))\n",
    "    "
   ]
  },
  {
   "cell_type": "code",
   "execution_count": 5,
   "metadata": {},
   "outputs": [
    {
     "data": {
      "text/plain": [
       "3530"
      ]
     },
     "execution_count": 5,
     "metadata": {},
     "output_type": "execute_result"
    }
   ],
   "source": [
    "l[max_index] - l[min_index]\n",
    "    "
   ]
  },
  {
   "cell_type": "code",
   "execution_count": null,
   "metadata": {},
   "outputs": [],
   "source": [
    "#2  Recipe Batches\n",
    "recipe\n",
    "{ 'milk': 100, 'flour': 4, 'sugar': 10, 'butter': 5 }\n",
    "ingredients\n",
    "{ 'milk': 1288, 'flour': 9, 'sugar': 95 }  , 0\n",
    "\n",
    "recipe:\n",
    "{ 'milk': 100, 'butter': 50, 'cheese': 10 }, \n",
    "ing:\n",
    "{ 'milk': 198, 'butter': 52, 'cheese': 10 }), 1)\n",
    "\n",
    "{ 'milk': 2, 'sugar': 40, 'butter': 20 },\n",
    "{ 'milk': 5, 'sugar': 120, 'butter': 500 }), 2)\n",
    "\n",
    "{ 'milk': 2 }, \n",
    "{ 'milk': 200}), 100)"
   ]
  },
  {
   "cell_type": "code",
   "execution_count": 123,
   "metadata": {},
   "outputs": [],
   "source": [
    "import math\n",
    "\n",
    "def recipe_batches(recipe, ingredients):\n",
    "    if (recipe.keys() == ingredients.keys()):\n",
    "        batches = []\n",
    "        for i in recipe.keys():\n",
    "            batches.append(ingredients.get(i) // recipe.get(i))\n",
    "        return min(batches)\n",
    "#     print(recipe.keys())\n",
    "#     print(ingredients)\n",
    "#     print()\n",
    "    else:\n",
    "        return 0\n"
   ]
  },
  {
   "cell_type": "code",
   "execution_count": 132,
   "metadata": {},
   "outputs": [],
   "source": [
    "recipe = {'milk': 2}\n",
    "ingredients = {'milk': 200}\n",
    "#100"
   ]
  },
  {
   "cell_type": "code",
   "execution_count": 134,
   "metadata": {},
   "outputs": [],
   "source": [
    "recipe = { 'milk': 100, 'flour': 4, 'sugar': 10, 'butter': 5 }\n",
    "ingredients = { 'milk': 1288, 'flour': 9, 'sugar': 95 }\n",
    "#0"
   ]
  },
  {
   "cell_type": "code",
   "execution_count": 136,
   "metadata": {},
   "outputs": [],
   "source": [
    "recipe = { 'milk': 100, 'butter': 50, 'cheese': 10 }\n",
    "ingredients = { 'milk': 198, 'butter': 52, 'cheese': 10 }\n",
    "#1"
   ]
  },
  {
   "cell_type": "code",
   "execution_count": 138,
   "metadata": {},
   "outputs": [],
   "source": [
    "recipe = { 'milk': 2, 'sugar': 40, 'butter': 20 }\n",
    "ingredients = { 'milk': 5, 'sugar': 120, 'butter': 500 }\n",
    "#2"
   ]
  },
  {
   "cell_type": "code",
   "execution_count": 139,
   "metadata": {},
   "outputs": [
    {
     "data": {
      "text/plain": [
       "2"
      ]
     },
     "execution_count": 139,
     "metadata": {},
     "output_type": "execute_result"
    }
   ],
   "source": [
    "recipe_batches(recipe, ingredients)"
   ]
  },
  {
   "cell_type": "code",
   "execution_count": 116,
   "metadata": {},
   "outputs": [],
   "source": [
    "l1 = recipe.get('milk')\n",
    "l2 = [201]"
   ]
  },
  {
   "cell_type": "code",
   "execution_count": 117,
   "metadata": {},
   "outputs": [
    {
     "data": {
      "text/plain": [
       "2"
      ]
     },
     "execution_count": 117,
     "metadata": {},
     "output_type": "execute_result"
    }
   ],
   "source": [
    "recipe.get('milk')"
   ]
  },
  {
   "cell_type": "code",
   "execution_count": 99,
   "metadata": {},
   "outputs": [
    {
     "data": {
      "text/plain": [
       "100"
      ]
     },
     "execution_count": 99,
     "metadata": {},
     "output_type": "execute_result"
    }
   ],
   "source": [
    "l2[0] // l1[0]\n"
   ]
  },
  {
   "cell_type": "code",
   "execution_count": null,
   "metadata": {},
   "outputs": [],
   "source": [
    "3.eating cookies\n",
    "---------------\n",
    "Cookie Monster can eat either 0, 1, 2, or 3 cookies at a time. \n",
    "If he were given a jar of cookies with `n` cookies inside of it, \n",
    "how many ways could he eat all `n` cookies in the cookie jar? \n",
    "Implement a function `eating_cookies` that counts the number of possible ways \n",
    "Cookie Monster can eat all of the cookies in the jar. \n",
    "\n",
    "For example, for a jar of cookies with `n = 3` (the jar has 3 cookies inside it), \n",
    "there are 4 possible ways for Cookie Monster to eat all the cookies inside it:\n",
    "\n",
    " 1. He can eat 1 cookie at a time 3 times\n",
    " 2. He can eat 1 cookie, then 2 cookies \n",
    " 3. He can eat 2 cookies, then 1 cookie\n",
    " 4. He can eat 3 cookies all at once. \n",
    "\n",
    "Thus, `eating_cookies(3)` should return an answer of 4.\n",
    "\n",
    "\n",
    " * Since this question is asking you to generate a bunch of possible permutations, \n",
    "    you'll probably want to use recursion for this.\n",
    " * Think about base cases that we would want our recursive function to stop recursing on. \n",
    "How many ways are there to eat 0 cookies? What about a negative number of cookies? \n",
    " * Once we've established some base cases, \n",
    "    how can we recursively call our function such that we move towards one or more of these base cases?\n",
    " * As far as performance optimizations go, caching/memoization might be one avenue we could go down? \n",
    "How should we make a cache available to our recursive function through multiple recursive calls?\n",
    "\n"
   ]
  },
  {
   "cell_type": "code",
   "execution_count": null,
   "metadata": {},
   "outputs": [],
   "source": [
    "# 0 cookies -- 1\n",
    "# 1 cookies. --- 1\n",
    "# 2 cookies --- 2\n",
    "# 3 cookies --- 4   1 1 1 , 1 2 , 2 1 , 3\n",
    "# 4 cookies --- 7    1 1 1 1,   1,1,2,   1,2,1  1,3  2,1,1  2,2  3,1\n",
    "# 5 cookies ---- 13    1 1 1 1 1, \n",
    "                     1 1 1 2, 1 1 2 1,  1 2 1 1 ,2 1 1 1,\n",
    "                     1 2 2 ,  2 1 2, 2 2 1, \n",
    "                     1 1 3,   1 3 1, 3 1 1,\n",
    "                     2 3, 3 2   \n",
    "# 7 cookies --- 44\n",
    "# 8 cookies --- 81\n",
    "# 9 cookies ---- 149\n",
    "# 10 cookies ---- 274"
   ]
  },
  {
   "cell_type": "code",
   "execution_count": 1,
   "metadata": {},
   "outputs": [],
   "source": [
    "def eating_cookies(n, cache=None):\n",
    "    # base case\n",
    "    if n < 0:\n",
    "        return 0\n",
    "    elif n == 0:\n",
    "        return 1\n",
    "  \n",
    "        \n",
    "    else:\n",
    "        \n",
    "        return eating_cookies(n-1) + eating_cookies(n-2) + eating_cookies(n-3)\n",
    "        \n",
    "        \n",
    "\n"
   ]
  },
  {
   "cell_type": "code",
   "execution_count": 8,
   "metadata": {},
   "outputs": [
    {
     "data": {
      "text/plain": [
       "149"
      ]
     },
     "execution_count": 8,
     "metadata": {},
     "output_type": "execute_result"
    }
   ],
   "source": [
    "eating_cookies(9)"
   ]
  },
  {
   "cell_type": "code",
   "execution_count": 153,
   "metadata": {},
   "outputs": [],
   "source": []
  },
  {
   "cell_type": "code",
   "execution_count": 154,
   "metadata": {},
   "outputs": [
    {
     "data": {
      "text/plain": [
       "3"
      ]
     },
     "execution_count": 154,
     "metadata": {},
     "output_type": "execute_result"
    }
   ],
   "source": [
    "eating_cookies(3)"
   ]
  },
  {
   "cell_type": "code",
   "execution_count": null,
   "metadata": {},
   "outputs": [],
   "source": []
  },
  {
   "cell_type": "code",
   "execution_count": null,
   "metadata": {},
   "outputs": [],
   "source": [
    "# 4 Rock Paper Scissors\n",
    "Write a function `rock_paper_scissors` to generate all of the possible plays \n",
    "that can be made in a game of \"Rock Paper Scissors\", given some input `n`, \n",
    "which represents the number of plays per round. \n",
    "\n",
    "For example, given n = 2, your function should output the following:\n",
    "\n",
    "```python\n",
    "[['rock', 'rock'], ['rock', 'paper'], ['rock', 'scissors'],\n",
    " ['paper', 'rock'], ['paper', 'paper'], ['paper', 'scissors'], \n",
    " ['scissors', 'rock'], ['scissors', 'paper'], ['scissors', 'scissors']]\n",
    "```\n",
    "\n",
    "Your output should be a list of lists containing strings. \n",
    "Each inner list should have length equal to the input n.\n",
    "\n",
    "* You'll want to define a list with all of the possible Rock Paper Scissors plays.\n",
    "* Another problem that asks you to generate a bunch of permutations, \n",
    "so we're probably going to want to opt for using recursion again. \n",
    "Since we're building up a list of results, we'll have to pass the list \n",
    "we're constructing around to multiple recursive calls so that each recursive call can \n",
    "add to the overall result. However, the tests only give our function `n` as input. \n",
    "To get around this, we could define an inner recursive helper function \n",
    "that will perform the recursion for us, while allowing us \n",
    "to preserve the outer function's function signature. \n",
    " * In Python, you can concatenate two lists with the `+` operator. \n",
    "    However, you'll want to make sure that both operands are lists!\n",
    " * If you opt to define an inner recursive helper function, don't forget to make an initial call \n",
    "to the recursive helper function to kick off the recursion."
   ]
  },
  {
   "cell_type": "code",
   "execution_count": 41,
   "metadata": {},
   "outputs": [],
   "source": [
    "def rock_paper_scissors(n):\n",
    "    strings = [['rock'],['paper'],['scissors']]\n",
    "    \n",
    "    if n == 1:\n",
    "        return strings\n",
    "    elif n <= 0:\n",
    "        return [[]]\n",
    "    else:\n",
    "        list_str=[]\n",
    "        for i in range(n):\n",
    "            for j in strings:\n",
    "            \n",
    "                list_str += strings[i] + [j]\n",
    "        return list_str\n",
    "        \n",
    "         \n"
   ]
  },
  {
   "cell_type": "code",
   "execution_count": 42,
   "metadata": {},
   "outputs": [
    {
     "data": {
      "text/plain": [
       "['rock',\n",
       " ['rock'],\n",
       " 'rock',\n",
       " ['paper'],\n",
       " 'rock',\n",
       " ['scissors'],\n",
       " 'paper',\n",
       " ['rock'],\n",
       " 'paper',\n",
       " ['paper'],\n",
       " 'paper',\n",
       " ['scissors']]"
      ]
     },
     "execution_count": 42,
     "metadata": {},
     "output_type": "execute_result"
    }
   ],
   "source": [
    "rock_paper_scissors(2)"
   ]
  },
  {
   "cell_type": "code",
   "execution_count": 14,
   "metadata": {},
   "outputs": [],
   "source": [
    "l = [['rock'],['paper'],['scissors']]\n",
    "play = []\n",
    "# play.append([l[0]])\n",
    "# play.append([l[1]])"
   ]
  },
  {
   "cell_type": "code",
   "execution_count": 17,
   "metadata": {},
   "outputs": [],
   "source": [
    "# play = ['rock'] + ['rock']\n",
    "play = l[0] + l[0]"
   ]
  },
  {
   "cell_type": "code",
   "execution_count": 18,
   "metadata": {},
   "outputs": [
    {
     "data": {
      "text/plain": [
       "['rock', 'rock']"
      ]
     },
     "execution_count": 18,
     "metadata": {},
     "output_type": "execute_result"
    }
   ],
   "source": [
    "play"
   ]
  },
  {
   "cell_type": "code",
   "execution_count": 21,
   "metadata": {},
   "outputs": [
    {
     "data": {
      "text/plain": [
       "[['rock'], ['paper'], ['scissors']]"
      ]
     },
     "execution_count": 21,
     "metadata": {},
     "output_type": "execute_result"
    }
   ],
   "source": [
    "rock_paper_scissors(1)"
   ]
  },
  {
   "cell_type": "code",
   "execution_count": null,
   "metadata": {},
   "outputs": [],
   "source": [
    "[[r],[p],[s]]\n",
    "[[r,r],[r,p],[r,s],\n",
    "  [p,r],[p,p],[p,s],\n",
    "  [s,r],[s,p],[s,s]]\n"
   ]
  },
  {
   "cell_type": "code",
   "execution_count": 26,
   "metadata": {},
   "outputs": [
    {
     "data": {
      "text/plain": [
       "['rock', 'paper', 'scissors']"
      ]
     },
     "execution_count": 26,
     "metadata": {},
     "output_type": "execute_result"
    }
   ],
   "source": [
    "[items for items in l]"
   ]
  },
  {
   "cell_type": "code",
   "execution_count": 28,
   "metadata": {},
   "outputs": [],
   "source": [
    "l = ['0']*2"
   ]
  },
  {
   "cell_type": "code",
   "execution_count": 29,
   "metadata": {},
   "outputs": [
    {
     "data": {
      "text/plain": [
       "['0', '0']"
      ]
     },
     "execution_count": 29,
     "metadata": {},
     "output_type": "execute_result"
    }
   ],
   "source": [
    "l"
   ]
  },
  {
   "cell_type": "code",
   "execution_count": null,
   "metadata": {},
   "outputs": [],
   "source": [
    "5."
   ]
  }
 ],
 "metadata": {
  "kernelspec": {
   "display_name": "Python 3",
   "language": "python",
   "name": "python3"
  },
  "language_info": {
   "codemirror_mode": {
    "name": "ipython",
    "version": 3
   },
   "file_extension": ".py",
   "mimetype": "text/x-python",
   "name": "python",
   "nbconvert_exporter": "python",
   "pygments_lexer": "ipython3",
   "version": "3.7.4"
  }
 },
 "nbformat": 4,
 "nbformat_minor": 4
}
